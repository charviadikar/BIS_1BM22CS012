{
  "nbformat": 4,
  "nbformat_minor": 0,
  "metadata": {
    "colab": {
      "provenance": [],
      "authorship_tag": "ABX9TyOZ0u/KgFks5ui3LoTPNgDv",
      "include_colab_link": true
    },
    "kernelspec": {
      "name": "python3",
      "display_name": "Python 3"
    },
    "language_info": {
      "name": "python"
    }
  },
  "cells": [
    {
      "cell_type": "markdown",
      "metadata": {
        "id": "view-in-github",
        "colab_type": "text"
      },
      "source": [
        "<a href=\"https://colab.research.google.com/github/charviadikar/BIS_1BM22CS012/blob/main/ParticleSwarmOptimization_LAB2_012.ipynb\" target=\"_parent\"><img src=\"https://colab.research.google.com/assets/colab-badge.svg\" alt=\"Open In Colab\"/></a>"
      ]
    },
    {
      "cell_type": "code",
      "execution_count": 1,
      "metadata": {
        "colab": {
          "base_uri": "https://localhost:8080/",
          "height": 0
        },
        "id": "ZsHneNnLbAlR",
        "outputId": "3ff802db-155f-4bc4-905c-f714620481e9"
      },
      "outputs": [
        {
          "output_type": "stream",
          "name": "stdout",
          "text": [
            "StudentName: Adikar Charvi Sree Teja\n",
            "USN: 1BM22CS012\n",
            "Iteration 1: Global best = -0.09161579274465215, Fitness = -0.008393453480231057\n",
            "Iteration 2: Global best = -0.07518326069626954, Fitness = -0.0056525226889232285\n",
            "Iteration 3: Global best = -0.02056424674010071, Fitness = -0.0004228882439877427\n",
            "Iteration 4: Global best = -0.001056043358084846, Fitness = -1.1152275741551184e-06\n",
            "Iteration 5: Global best = -0.001056043358084846, Fitness = -1.1152275741551184e-06\n",
            "Best solution found: -0.001056043358084846, Fitness: -1.1152275741551184e-06\n"
          ]
        }
      ],
      "source": [
        "import random\n",
        "\n",
        "def fitness_function(x):\n",
        "    return -x ** 2\n",
        "\n",
        "class Particle:\n",
        "    def __init__(self, min_x, max_x):\n",
        "        self.position = random.uniform(min_x, max_x)\n",
        "        self.velocity = random.uniform(-1, 1)\n",
        "        self.best_position = self.position\n",
        "        self.best_fitness = fitness_function(self.position)\n",
        "\n",
        "    def update_velocity(self, global_best_position, inertia, cognitive, social):\n",
        "        r1, r2 = random.random(), random.random()\n",
        "        cognitive_velocity = cognitive * r1 * (self.best_position - self.position)\n",
        "        social_velocity = social * r2 * (global_best_position - self.position)\n",
        "        self.velocity = inertia * self.velocity + cognitive_velocity + social_velocity\n",
        "\n",
        "    def update_position(self, min_x, max_x):\n",
        "        self.position += self.velocity\n",
        "        self.position = max(min(self.position, max_x), min_x)\n",
        "        fitness = fitness_function(self.position)\n",
        "        if fitness > self.best_fitness:\n",
        "            self.best_position = self.position\n",
        "            self.best_fitness = fitness\n",
        "\n",
        "def particle_swarm_optimization(pop_size, min_x, max_x, inertia, cognitive, social, iterations):\n",
        "    swarm = [Particle(min_x, max_x) for _ in range(pop_size)]\n",
        "    global_best_position = max(swarm, key=lambda p: p.best_fitness).best_position\n",
        "\n",
        "    for iteration in range(iterations):\n",
        "        for particle in swarm:\n",
        "            particle.update_velocity(global_best_position, inertia, cognitive, social)\n",
        "            particle.update_position(min_x, max_x)\n",
        "            if fitness_function(particle.position) > fitness_function(global_best_position):\n",
        "                global_best_position = particle.position\n",
        "\n",
        "        print(f\"Iteration {iteration + 1}: Global best = {global_best_position}, Fitness = {fitness_function(global_best_position)}\")\n",
        "\n",
        "    return global_best_position\n",
        "\n",
        "print(\"StudentName: Adikar Charvi Sree Teja\")\n",
        "print(\"USN: 1BM22CS012\")\n",
        "\n",
        "population_size = 30\n",
        "min_value = -10\n",
        "max_value = 10\n",
        "inertia_weight = 0.5\n",
        "cognitive_constant = 1.5\n",
        "social_constant = 1.5\n",
        "num_iterations = 5\n",
        "\n",
        "best_solution = particle_swarm_optimization(population_size, min_value, max_value, inertia_weight, cognitive_constant, social_constant, num_iterations)\n",
        "print(f\"Best solution found: {best_solution}, Fitness: {fitness_function(best_solution)}\")\n"
      ]
    }
  ]
}