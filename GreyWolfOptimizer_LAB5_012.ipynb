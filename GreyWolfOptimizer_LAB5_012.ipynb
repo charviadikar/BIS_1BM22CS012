{
  "nbformat": 4,
  "nbformat_minor": 0,
  "metadata": {
    "colab": {
      "provenance": [],
      "authorship_tag": "ABX9TyNQJ1BFdWLSpr+1sOKvtzJS",
      "include_colab_link": true
    },
    "kernelspec": {
      "name": "python3",
      "display_name": "Python 3"
    },
    "language_info": {
      "name": "python"
    }
  },
  "cells": [
    {
      "cell_type": "markdown",
      "metadata": {
        "id": "view-in-github",
        "colab_type": "text"
      },
      "source": [
        "<a href=\"https://colab.research.google.com/github/charviadikar/BIS_1BM22CS012/blob/main/GreyWolfOptimizer_LAB5_012.ipynb\" target=\"_parent\"><img src=\"https://colab.research.google.com/assets/colab-badge.svg\" alt=\"Open In Colab\"/></a>"
      ]
    },
    {
      "cell_type": "code",
      "execution_count": 1,
      "metadata": {
        "colab": {
          "base_uri": "https://localhost:8080/"
        },
        "id": "g7-WW-kHdtcF",
        "outputId": "9ac4909e-c7a4-4e25-c531-415dc2e10f93"
      },
      "outputs": [
        {
          "output_type": "stream",
          "name": "stdout",
          "text": [
            "StudentName: Adikar Charvi Sree Teja\n",
            "USN: 1BM22CS012\n",
            "Iter 1/5, Best Score: 85.65228012732766, Best Pos: [ 6.096699    2.6484191  -6.00958006  1.33437543  1.89018713]\n",
            "Iter 2/5, Best Score: 20.61671829325529, Best Pos: [ 1.23950859 -4.02398788  0.65398103  1.14483446  1.07215725]\n",
            "Iter 3/5, Best Score: 5.11235862477282, Best Pos: [ 0.24307659  0.1839661  -2.18722962 -0.11647931 -0.47104993]\n",
            "Iter 4/5, Best Score: 3.3451401767510505, Best Pos: [ 0.80023932 -0.87641424 -0.42656979 -1.30511355  0.22665416]\n",
            "Iter 5/5, Best Score: 2.1746418727101497, Best Pos: [ 1.25288245 -0.75519588 -0.13004052 -0.12929692 -0.03127905]\n",
            "StudentName: Adikar Charvi Sree Teja\n",
            "USN: 1BM22CS012\n",
            "\n",
            "Final Best Score: 2.1746418727101497\n",
            "Final Best Pos: [ 1.25288245 -0.75519588 -0.13004052 -0.12929692 -0.03127905]\n"
          ]
        }
      ],
      "source": [
        "import numpy as np\n",
        "\n",
        "def obj_fn(x):\n",
        "    return np.sum(x**2)\n",
        "\n",
        "def gwo(obj_fn, dim, wolves, iters, lb, ub):\n",
        "    pos = np.random.uniform(low=lb, high=ub, size=(wolves, dim))\n",
        "    a_pos, b_pos, d_pos = np.zeros(dim), np.zeros(dim), np.zeros(dim)\n",
        "    a_score, b_score, d_score = float(\"inf\"), float(\"inf\"), float(\"inf\")\n",
        "\n",
        "    for t in range(iters):\n",
        "        for i in range(wolves):\n",
        "            fit = obj_fn(pos[i])\n",
        "            if fit < a_score:\n",
        "                d_score, d_pos = b_score, b_pos.copy()\n",
        "                b_score, b_pos = a_score, a_pos.copy()\n",
        "                a_score, a_pos = fit, pos[i].copy()\n",
        "            elif fit < b_score:\n",
        "                d_score, d_pos = b_score, b_pos.copy()\n",
        "                b_score, b_pos = fit, pos[i].copy()\n",
        "            elif fit < d_score:\n",
        "                d_score, d_pos = fit, pos[i].copy()\n",
        "\n",
        "        a = 2 - t * (2 / iters)\n",
        "        for i in range(wolves):\n",
        "            for j in range(dim):\n",
        "                r1, r2 = np.random.rand(), np.random.rand()\n",
        "                A1, C1 = 2 * a * r1 - a, 2 * r2\n",
        "                D_a = abs(C1 * a_pos[j] - pos[i, j])\n",
        "                X1 = a_pos[j] - A1 * D_a\n",
        "\n",
        "                r1, r2 = np.random.rand(), np.random.rand()\n",
        "                A2, C2 = 2 * a * r1 - a, 2 * r2\n",
        "                D_b = abs(C2 * b_pos[j] - pos[i, j])\n",
        "                X2 = b_pos[j] - A2 * D_b\n",
        "\n",
        "                r1, r2 = np.random.rand(), np.random.rand()\n",
        "                A3, C3 = 2 * a * r1 - a, 2 * r2\n",
        "                D_d = abs(C3 * d_pos[j] - pos[i, j])\n",
        "                X3 = d_pos[j] - A3 * D_d\n",
        "\n",
        "                pos[i, j] = (X1 + X2 + X3) / 3\n",
        "\n",
        "            pos[i] = np.clip(pos[i], lb, ub)\n",
        "\n",
        "        print(f\"Iter {t+1}/{iters}, Best Score: {a_score}, Best Pos: {a_pos}\")\n",
        "\n",
        "    return a_score, a_pos\n",
        "\n",
        "print(\"StudentName: Adikar Charvi Sree Teja\")\n",
        "print(\"USN: 1BM22CS012\")\n",
        "\n",
        "dim = 5\n",
        "wolves = 20\n",
        "iters = 5\n",
        "lb = -10\n",
        "ub = 10\n",
        "\n",
        "best_score, best_pos = gwo(obj_fn, dim, wolves, iters, lb, ub)\n",
        "\n",
        "print(\"StudentName: Adikar Charvi Sree Teja\")\n",
        "print(\"USN: 1BM22CS012\")\n",
        "print(\"\\nFinal Best Score:\", best_score)\n",
        "print(\"Final Best Pos:\", best_pos)\n"
      ]
    }
  ]
}