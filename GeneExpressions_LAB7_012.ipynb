{
  "nbformat": 4,
  "nbformat_minor": 0,
  "metadata": {
    "colab": {
      "provenance": [],
      "authorship_tag": "ABX9TyPmFkSey4i1lruyaxckrZ40",
      "include_colab_link": true
    },
    "kernelspec": {
      "name": "python3",
      "display_name": "Python 3"
    },
    "language_info": {
      "name": "python"
    }
  },
  "cells": [
    {
      "cell_type": "markdown",
      "metadata": {
        "id": "view-in-github",
        "colab_type": "text"
      },
      "source": [
        "<a href=\"https://colab.research.google.com/github/charviadikar/BIS_1BM22CS012/blob/main/GeneExpressions_LAB7_012.ipynb\" target=\"_parent\"><img src=\"https://colab.research.google.com/assets/colab-badge.svg\" alt=\"Open In Colab\"/></a>"
      ]
    },
    {
      "cell_type": "code",
      "execution_count": 1,
      "metadata": {
        "colab": {
          "base_uri": "https://localhost:8080/"
        },
        "id": "8ai880kMehBD",
        "outputId": "07bb6c7a-1dd9-4106-8a05-003305925581"
      },
      "outputs": [
        {
          "output_type": "stream",
          "name": "stdout",
          "text": [
            "Generation 1, Best Fitness: 6.729264035395483\n",
            "Generation 2, Best Fitness: 6.729264035395483\n",
            "Generation 3, Best Fitness: 1.281477502305968\n",
            "Generation 4, Best Fitness: 1.281477502305968\n",
            "Generation 5, Best Fitness: 1.281477502305968\n",
            "StudentName: Adikar Charvi Sree Teja USN:1BM22CS012\n",
            "\n",
            "Best Solution: [ 0.56808423 -0.12769649  0.75261293 -0.12116944 -0.60111827]\n",
            "Best Fitness: 1.281477502305968\n"
          ]
        }
      ],
      "source": [
        "import numpy as np\n",
        "\n",
        "def objective_function(x):\n",
        "    return np.sum(x**2)\n",
        "\n",
        "def gene_expression_algorithm(objective_function, pop_size=50, num_genes=5, mutation_rate=0.1, crossover_rate=0.7, num_generations=5):\n",
        "    population = np.random.uniform(-5, 5, (pop_size, num_genes))\n",
        "    fitness = np.apply_along_axis(objective_function, 1, population)\n",
        "\n",
        "    best_solution = population[np.argmin(fitness)]\n",
        "    best_fitness = np.min(fitness)\n",
        "\n",
        "    for generation in range(num_generations):\n",
        "        new_population = []\n",
        "\n",
        "        for _ in range(pop_size):\n",
        "            parent1, parent2 = selection(population, fitness)\n",
        "            offspring = crossover(parent1, parent2, crossover_rate)\n",
        "            offspring = mutation(offspring, mutation_rate)\n",
        "            new_population.append(offspring)\n",
        "\n",
        "        population = np.array(new_population)\n",
        "        fitness = np.apply_along_axis(objective_function, 1, population)\n",
        "\n",
        "        best_idx = np.argmin(fitness)\n",
        "        current_best_solution = population[best_idx]\n",
        "        current_best_fitness = fitness[best_idx]\n",
        "\n",
        "        if current_best_fitness < best_fitness:\n",
        "            best_solution = current_best_solution\n",
        "            best_fitness = current_best_fitness\n",
        "\n",
        "        print(f\"Generation {generation + 1}, Best Fitness: {best_fitness}\")\n",
        "\n",
        "    print(\"StudentName: Adikar Charvi Sree Teja USN:1BM22CS012\")\n",
        "    return best_solution, best_fitness\n",
        "\n",
        "def selection(population, fitness):\n",
        "    idx = np.random.choice(len(population), 2, replace=False)\n",
        "    return population[idx[0]], population[idx[1]]\n",
        "\n",
        "def crossover(parent1, parent2, crossover_rate):\n",
        "    if np.random.rand() < crossover_rate:\n",
        "        mask = np.random.rand(len(parent1)) > 0.5\n",
        "        offspring = np.where(mask, parent1, parent2)\n",
        "        return offspring\n",
        "    else:\n",
        "        return parent1.copy()\n",
        "\n",
        "def mutation(offspring, mutation_rate):\n",
        "    for i in range(len(offspring)):\n",
        "        if np.random.rand() < mutation_rate:\n",
        "            offspring[i] += np.random.uniform(-0.5, 0.5)\n",
        "    return offspring\n",
        "\n",
        "pop_size = 50\n",
        "num_genes = 5\n",
        "mutation_rate = 0.1\n",
        "crossover_rate = 0.7\n",
        "num_generations = 5\n",
        "\n",
        "best_solution, best_fitness = gene_expression_algorithm(objective_function, pop_size, num_genes, mutation_rate, crossover_rate, num_generations)\n",
        "\n",
        "print(f\"\\nBest Solution: {best_solution}\")\n",
        "print(f\"Best Fitness: {best_fitness}\")\n"
      ]
    }
  ]
}