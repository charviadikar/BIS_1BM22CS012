{
  "nbformat": 4,
  "nbformat_minor": 0,
  "metadata": {
    "colab": {
      "provenance": [],
      "authorship_tag": "ABX9TyM8HbpwRRjaeWYHtx9iM5tX",
      "include_colab_link": true
    },
    "kernelspec": {
      "name": "python3",
      "display_name": "Python 3"
    },
    "language_info": {
      "name": "python"
    }
  },
  "cells": [
    {
      "cell_type": "markdown",
      "metadata": {
        "id": "view-in-github",
        "colab_type": "text"
      },
      "source": [
        "<a href=\"https://colab.research.google.com/github/charviadikar/BIS_1BM22CS012/blob/main/GeneticAlgorithms_LAB1_012.ipynb\" target=\"_parent\"><img src=\"https://colab.research.google.com/assets/colab-badge.svg\" alt=\"Open In Colab\"/></a>"
      ]
    },
    {
      "cell_type": "code",
      "execution_count": null,
      "metadata": {
        "colab": {
          "base_uri": "https://localhost:8080/"
        },
        "id": "ccE7ZBWMavfX",
        "outputId": "0486943b-f47c-4e2c-9c50-6db61489b663"
      },
      "outputs": [
        {
          "output_type": "stream",
          "name": "stdout",
          "text": [
            "StudentName: Adikar Charvi Sree Teja\n",
            "USN: 1BM22CS012\n",
            "Generation 1: Best Solution = -9.204195639902089, Best Fitness = 90.89887334860231\n",
            "Generation 2: Best Solution = 1.6486410061789152, Best Fitness = 90.89887334860231\n",
            "Generation 3: Best Solution = 1.8136178982829971, Best Fitness = 87.59239002224885\n",
            "Generation 4: Best Solution = 5.7223926116508945, Best Fitness = 94.34052167162346\n",
            "Generation 5: Best Solution = 8.273017942695777, Best Fitness = 93.69344614396368\n",
            "Best Solution Found: x = 8.273017942695777, f(x) = 93.69344614396368\n"
          ]
        }
      ],
      "source": [
        "import numpy as np\n",
        "\n",
        "def fitness_function(x):\n",
        "    return x**2\n",
        "\n",
        "population_size = 40\n",
        "mutation_rate = 0.1\n",
        "crossover_rate = 0.7\n",
        "num_generations = 5\n",
        "x_range = (-10, 10)\n",
        "\n",
        "def initialize_population(size, x_range):\n",
        "    return np.random.uniform(x_range[0], x_range[1], size)\n",
        "\n",
        "def evaluate_fitness(population):\n",
        "    return fitness_function(population)\n",
        "\n",
        "def select_parents(population, fitness):\n",
        "    probabilities = fitness / fitness.sum()\n",
        "    parents_indices = np.random.choice(np.arange(len(population)), size=2, p=probabilities)\n",
        "    return population[parents_indices]\n",
        "\n",
        "def crossover(parent1, parent2):\n",
        "    if np.random.rand() < crossover_rate:\n",
        "        alpha = np.random.rand()\n",
        "        offspring1 = alpha * parent1 + (1 - alpha) * parent2\n",
        "        offspring2 = alpha * parent2 + (1 - alpha) * parent1\n",
        "        return offspring1, offspring2\n",
        "    return parent1, parent2\n",
        "\n",
        "def mutate(offspring):\n",
        "    if np.random.rand() < mutation_rate:\n",
        "        return np.random.uniform(x_range[0], x_range[1])\n",
        "    return offspring\n",
        "\n",
        "def genetic_algorithm():\n",
        "    population = initialize_population(population_size, x_range)\n",
        "    for generation in range(num_generations):\n",
        "        fitness = evaluate_fitness(population)\n",
        "        new_population = []\n",
        "        for _ in range(population_size // 2):\n",
        "            parent1, parent2 = select_parents(population, fitness)\n",
        "            offspring1, offspring2 = crossover(parent1, parent2)\n",
        "            new_population.append(mutate(offspring1))\n",
        "            new_population.append(mutate(offspring2))\n",
        "        population = np.array(new_population)\n",
        "        best_fitness_index = np.argmax(fitness)\n",
        "        best_solution = population[best_fitness_index]\n",
        "        best_value = fitness[best_fitness_index]\n",
        "        print(f\"Generation {generation + 1}: Best Solution = {best_solution}, Best Fitness = {best_value}\")\n",
        "    best_fitness_index = np.argmax(fitness)\n",
        "    best_solution = population[best_fitness_index]\n",
        "    best_value = fitness[best_fitness_index]\n",
        "    return best_solution, best_value\n",
        "\n",
        "print(\"StudentName: Adikar Charvi Sree Teja\")\n",
        "print(\"USN: 1BM22CS012\")\n",
        "\n",
        "best_solution, best_value = genetic_algorithm()\n",
        "print(f\"Best Solution Found: x = {best_solution}, f(x) = {best_value}\")\n"
      ]
    }
  ]
}