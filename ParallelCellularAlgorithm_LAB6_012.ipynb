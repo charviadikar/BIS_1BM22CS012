{
  "nbformat": 4,
  "nbformat_minor": 0,
  "metadata": {
    "colab": {
      "provenance": [],
      "authorship_tag": "ABX9TyMH+uRxjIesld4CCqEPccH4",
      "include_colab_link": true
    },
    "kernelspec": {
      "name": "python3",
      "display_name": "Python 3"
    },
    "language_info": {
      "name": "python"
    }
  },
  "cells": [
    {
      "cell_type": "markdown",
      "metadata": {
        "id": "view-in-github",
        "colab_type": "text"
      },
      "source": [
        "<a href=\"https://colab.research.google.com/github/charviadikar/BIS_1BM22CS012/blob/main/ParallelCellularAlgorithm_LAB6_012.ipynb\" target=\"_parent\"><img src=\"https://colab.research.google.com/assets/colab-badge.svg\" alt=\"Open In Colab\"/></a>"
      ]
    },
    {
      "cell_type": "code",
      "execution_count": 1,
      "metadata": {
        "colab": {
          "base_uri": "https://localhost:8080/"
        },
        "id": "nFl_jo5AeGkR",
        "outputId": "ab125b94-d625-4afa-a555-a9f0cbe5634a"
      },
      "outputs": [
        {
          "output_type": "stream",
          "name": "stdout",
          "text": [
            "StudentName: Adikar Charvi Sree Teja\n",
            "USN: 1BM22CS012\n",
            "Iteration 1/5, Best Fitness: 25.908093509206587\n",
            "Iteration 2/5, Best Fitness: 6.261037875546443\n",
            "Iteration 3/5, Best Fitness: 3.4600737438345686\n",
            "Iteration 4/5, Best Fitness: 2.082362903116177\n",
            "Iteration 5/5, Best Fitness: 1.8992170354244287\n",
            "StudentName: Adikar Charvi Sree Teja\n",
            "USN: 1BM22CS012\n",
            "\n",
            "Final Best Fitness: 1.8992170354244287\n",
            "Final Best Solution: [ 0.02165531 -1.10467703 -0.53127842 -0.62231722  0.09434655]\n"
          ]
        }
      ],
      "source": [
        "import numpy as np\n",
        "\n",
        "def obj_fn(x):\n",
        "    return np.sum(x**2)\n",
        "\n",
        "def update_cell_state(cell, neighbors, lb, ub):\n",
        "    new_state = np.mean(neighbors, axis=0)\n",
        "    new_state = np.clip(new_state, lb, ub)\n",
        "    return new_state\n",
        "\n",
        "def parallel_cellular_algorithm(obj_fn, dim, grid_size, iterations, lb, ub):\n",
        "    grid = np.random.uniform(lb, ub, (grid_size, grid_size, dim))\n",
        "    best_solution = None\n",
        "    best_fitness = float('inf')\n",
        "\n",
        "    neighborhood = [(-1, 0), (1, 0), (0, -1), (0, 1)]\n",
        "\n",
        "    for t in range(iterations):\n",
        "        for i in range(grid_size):\n",
        "            for j in range(grid_size):\n",
        "                fitness = obj_fn(grid[i, j])\n",
        "\n",
        "                if fitness < best_fitness:\n",
        "                    best_fitness = fitness\n",
        "                    best_solution = grid[i, j]\n",
        "\n",
        "        new_grid = np.copy(grid)\n",
        "        for i in range(grid_size):\n",
        "            for j in range(grid_size):\n",
        "                neighbors = []\n",
        "                for dx, dy in neighborhood:\n",
        "                    ni, nj = (i + dx) % grid_size, (j + dy) % grid_size\n",
        "                    neighbors.append(grid[ni, nj])\n",
        "\n",
        "                new_grid[i, j] = update_cell_state(grid[i, j], neighbors, lb, ub)\n",
        "\n",
        "        grid = np.copy(new_grid)\n",
        "\n",
        "        print(f\"Iteration {t+1}/{iterations}, Best Fitness: {best_fitness}\")\n",
        "\n",
        "    return best_fitness, best_solution\n",
        "\n",
        "print(\"StudentName: Adikar Charvi Sree Teja\")\n",
        "print(\"USN: 1BM22CS012\")\n",
        "\n",
        "dim = 5\n",
        "grid_size = 10\n",
        "iterations = 5\n",
        "lb = -10\n",
        "ub = 10\n",
        "\n",
        "best_fitness, best_solution = parallel_cellular_algorithm(obj_fn, dim, grid_size, iterations, lb, ub)\n",
        "\n",
        "print(\"StudentName: Adikar Charvi Sree Teja\")\n",
        "print(\"USN: 1BM22CS012\")\n",
        "print(\"\\nFinal Best Fitness:\", best_fitness)\n",
        "print(\"Final Best Solution:\", best_solution)\n"
      ]
    }
  ]
}